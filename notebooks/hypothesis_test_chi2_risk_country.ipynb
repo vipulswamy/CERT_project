{
 "cells": [
  {
   "cell_type": "code",
   "execution_count": 1,
   "id": "aeafdca9",
   "metadata": {},
   "outputs": [],
   "source": [
    "import pandas as pd\n",
    "import numpy as np\n",
    "import matplotlib.pyplot as plt\n",
    "import matplotlib.pyplot as plt\n",
    "import seaborn as sns\n",
    "import scipy.stats as st"
   ]
  },
  {
   "cell_type": "code",
   "execution_count": 2,
   "id": "2d01851e",
   "metadata": {},
   "outputs": [],
   "source": [
    "data = pd.DataFrame"
   ]
  },
  {
   "cell_type": "code",
   "execution_count": 15,
   "id": "818214b0",
   "metadata": {},
   "outputs": [],
   "source": [
    "def read_file(data):\n",
    "    data = pd.read_csv(\"C:/Users/Admin/Documents/ironhack/certification_project/data/clean/USA/USA_df.csv\")\n",
    "    data.info()\n",
    "    return data"
   ]
  },
  {
   "cell_type": "code",
   "execution_count": 16,
   "id": "79adf5ef",
   "metadata": {},
   "outputs": [
    {
     "name": "stdout",
     "output_type": "stream",
     "text": [
      "<class 'pandas.core.frame.DataFrame'>\n",
      "RangeIndex: 92 entries, 0 to 91\n",
      "Data columns (total 6 columns):\n",
      " #   Column                    Non-Null Count  Dtype \n",
      "---  ------                    --------------  ----- \n",
      " 0   Unnamed: 0                92 non-null     int64 \n",
      " 1   country                   92 non-null     object\n",
      " 2   people                    92 non-null     object\n",
      " 3   obesity_levels            92 non-null     object\n",
      " 4   obesity_level_percentage  92 non-null     object\n",
      " 5   date                      92 non-null     int64 \n",
      "dtypes: int64(2), object(4)\n",
      "memory usage: 4.4+ KB\n"
     ]
    }
   ],
   "source": [
    "data = read_file(data).copy()"
   ]
  },
  {
   "cell_type": "code",
   "execution_count": 17,
   "id": "2619dc9e",
   "metadata": {},
   "outputs": [],
   "source": [
    "risk_levels = data[(data['obesity_levels'] == 'obese ')|(data['obesity_levels'] == 'overweight ')]"
   ]
  },
  {
   "cell_type": "code",
   "execution_count": 18,
   "id": "08441e42",
   "metadata": {},
   "outputs": [
    {
     "data": {
      "text/html": [
       "<div>\n",
       "<style scoped>\n",
       "    .dataframe tbody tr th:only-of-type {\n",
       "        vertical-align: middle;\n",
       "    }\n",
       "\n",
       "    .dataframe tbody tr th {\n",
       "        vertical-align: top;\n",
       "    }\n",
       "\n",
       "    .dataframe thead th {\n",
       "        text-align: right;\n",
       "    }\n",
       "</style>\n",
       "<table border=\"1\" class=\"dataframe\">\n",
       "  <thead>\n",
       "    <tr style=\"text-align: right;\">\n",
       "      <th>obesity_levels</th>\n",
       "      <th>obese</th>\n",
       "      <th>overweight</th>\n",
       "    </tr>\n",
       "    <tr>\n",
       "      <th>country</th>\n",
       "      <th></th>\n",
       "      <th></th>\n",
       "    </tr>\n",
       "  </thead>\n",
       "  <tbody>\n",
       "    <tr>\n",
       "      <th>United States of America</th>\n",
       "      <td>24</td>\n",
       "      <td>24</td>\n",
       "    </tr>\n",
       "  </tbody>\n",
       "</table>\n",
       "</div>"
      ],
      "text/plain": [
       "obesity_levels            obese   overweight \n",
       "country                                      \n",
       "United States of America      24           24"
      ]
     },
     "execution_count": 18,
     "metadata": {},
     "output_type": "execute_result"
    }
   ],
   "source": [
    "data_crosstab = pd.crosstab(risk_levels['country'], risk_levels['obesity_levels'], margins = False)\n",
    "data_crosstab"
   ]
  },
  {
   "cell_type": "code",
   "execution_count": 19,
   "id": "5300c8ee",
   "metadata": {},
   "outputs": [
    {
     "data": {
      "text/plain": [
       "0"
      ]
     },
     "execution_count": 19,
     "metadata": {},
     "output_type": "execute_result"
    }
   ],
   "source": [
    "risk_levels['country'].nunique()-1"
   ]
  },
  {
   "cell_type": "code",
   "execution_count": 20,
   "id": "07ec3a2d",
   "metadata": {},
   "outputs": [
    {
     "data": {
      "text/plain": [
       "array(['United States of America'], dtype=object)"
      ]
     },
     "execution_count": 20,
     "metadata": {},
     "output_type": "execute_result"
    }
   ],
   "source": [
    "risk_levels['country'].unique()"
   ]
  },
  {
   "cell_type": "code",
   "execution_count": 21,
   "id": "a9bbd38e",
   "metadata": {},
   "outputs": [
    {
     "data": {
      "text/plain": [
       "(1, 2)"
      ]
     },
     "execution_count": 21,
     "metadata": {},
     "output_type": "execute_result"
    }
   ],
   "source": [
    "data_crosstab.shape"
   ]
  },
  {
   "cell_type": "code",
   "execution_count": 22,
   "id": "2fbe2d23",
   "metadata": {},
   "outputs": [
    {
     "data": {
      "text/plain": [
       "0"
      ]
     },
     "execution_count": 22,
     "metadata": {},
     "output_type": "execute_result"
    }
   ],
   "source": [
    "# Number of degrees of freedom\n",
    "(data_crosstab.shape[0]-1)*(data_crosstab.shape[1]-1)"
   ]
  },
  {
   "cell_type": "code",
   "execution_count": 23,
   "id": "c939b711",
   "metadata": {},
   "outputs": [
    {
     "data": {
      "text/plain": [
       "nan"
      ]
     },
     "execution_count": 23,
     "metadata": {},
     "output_type": "execute_result"
    }
   ],
   "source": [
    "# this is the critical value\n",
    "st.chi2.ppf(0.95,df=0)"
   ]
  }
 ],
 "metadata": {
  "kernelspec": {
   "display_name": "Python 3 (ipykernel)",
   "language": "python",
   "name": "python3"
  },
  "language_info": {
   "codemirror_mode": {
    "name": "ipython",
    "version": 3
   },
   "file_extension": ".py",
   "mimetype": "text/x-python",
   "name": "python",
   "nbconvert_exporter": "python",
   "pygments_lexer": "ipython3",
   "version": "3.9.12"
  }
 },
 "nbformat": 4,
 "nbformat_minor": 5
}
