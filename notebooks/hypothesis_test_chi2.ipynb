{
 "cells": [
  {
   "cell_type": "markdown",
   "id": "668c45ac",
   "metadata": {},
   "source": [
    "# Is the Country and Obesity risk levels correlated?"
   ]
  },
  {
   "cell_type": "markdown",
   "id": "b5aa3cc9",
   "metadata": {},
   "source": [
    "#### We do this with a CHI square test"
   ]
  },
  {
   "cell_type": "code",
   "execution_count": 35,
   "id": "11c63611",
   "metadata": {},
   "outputs": [],
   "source": [
    "import pandas as pd\n",
    "import numpy as np\n",
    "import matplotlib.pyplot as plt\n",
    "import matplotlib.pyplot as plt\n",
    "import seaborn as sns\n",
    "import scipy.stats as st"
   ]
  },
  {
   "cell_type": "code",
   "execution_count": 2,
   "id": "194db2a4",
   "metadata": {},
   "outputs": [],
   "source": [
    "data = pd.DataFrame"
   ]
  },
  {
   "cell_type": "code",
   "execution_count": 23,
   "id": "83c43324",
   "metadata": {},
   "outputs": [],
   "source": [
    "def read_file(data):\n",
    "    data = pd.read_csv(\"C:/Users/Admin/Documents/ironhack/certification_project/data/clean/clean_data.csv\")\n",
    "    data.info()\n",
    "    return data"
   ]
  },
  {
   "cell_type": "code",
   "execution_count": 24,
   "id": "c5286ac9",
   "metadata": {},
   "outputs": [
    {
     "name": "stdout",
     "output_type": "stream",
     "text": [
      "<class 'pandas.core.frame.DataFrame'>\n",
      "RangeIndex: 2772 entries, 0 to 2771\n",
      "Data columns (total 6 columns):\n",
      " #   Column                    Non-Null Count  Dtype  \n",
      "---  ------                    --------------  -----  \n",
      " 0   Unnamed: 0                2772 non-null   int64  \n",
      " 1   country                   2772 non-null   object \n",
      " 2   people                    2766 non-null   object \n",
      " 3   obesity_levels            2766 non-null   object \n",
      " 4   obesity_level_percentage  2766 non-null   object \n",
      " 5   date                      2766 non-null   float64\n",
      "dtypes: float64(1), int64(1), object(4)\n",
      "memory usage: 130.1+ KB\n"
     ]
    }
   ],
   "source": [
    "data = read_file(data).copy()"
   ]
  },
  {
   "cell_type": "code",
   "execution_count": 25,
   "id": "70a2b728",
   "metadata": {},
   "outputs": [],
   "source": [
    "risk_levels = data[(data['obesity_levels'] == 'obese ')|(data['obesity_levels'] == 'overweight ')]"
   ]
  },
  {
   "cell_type": "code",
   "execution_count": 26,
   "id": "abbbce3b",
   "metadata": {},
   "outputs": [
    {
     "data": {
      "text/html": [
       "<div>\n",
       "<style scoped>\n",
       "    .dataframe tbody tr th:only-of-type {\n",
       "        vertical-align: middle;\n",
       "    }\n",
       "\n",
       "    .dataframe tbody tr th {\n",
       "        vertical-align: top;\n",
       "    }\n",
       "\n",
       "    .dataframe thead th {\n",
       "        text-align: right;\n",
       "    }\n",
       "</style>\n",
       "<table border=\"1\" class=\"dataframe\">\n",
       "  <thead>\n",
       "    <tr style=\"text-align: right;\">\n",
       "      <th>obesity_levels</th>\n",
       "      <th>obese</th>\n",
       "      <th>overweight</th>\n",
       "    </tr>\n",
       "    <tr>\n",
       "      <th>country</th>\n",
       "      <th></th>\n",
       "      <th></th>\n",
       "    </tr>\n",
       "  </thead>\n",
       "  <tbody>\n",
       "    <tr>\n",
       "      <th>American Samoa</th>\n",
       "      <td>6</td>\n",
       "      <td>3</td>\n",
       "    </tr>\n",
       "    <tr>\n",
       "      <th>Argentina</th>\n",
       "      <td>2</td>\n",
       "      <td>2</td>\n",
       "    </tr>\n",
       "    <tr>\n",
       "      <th>Armenia</th>\n",
       "      <td>3</td>\n",
       "      <td>3</td>\n",
       "    </tr>\n",
       "    <tr>\n",
       "      <th>Australia</th>\n",
       "      <td>19</td>\n",
       "      <td>19</td>\n",
       "    </tr>\n",
       "    <tr>\n",
       "      <th>Austria</th>\n",
       "      <td>12</td>\n",
       "      <td>12</td>\n",
       "    </tr>\n",
       "    <tr>\n",
       "      <th>...</th>\n",
       "      <td>...</td>\n",
       "      <td>...</td>\n",
       "    </tr>\n",
       "    <tr>\n",
       "      <th>United States of America</th>\n",
       "      <td>24</td>\n",
       "      <td>24</td>\n",
       "    </tr>\n",
       "    <tr>\n",
       "      <th>Uzbekistan</th>\n",
       "      <td>2</td>\n",
       "      <td>2</td>\n",
       "    </tr>\n",
       "    <tr>\n",
       "      <th>Viet Nam</th>\n",
       "      <td>3</td>\n",
       "      <td>6</td>\n",
       "    </tr>\n",
       "    <tr>\n",
       "      <th>Zambia</th>\n",
       "      <td>3</td>\n",
       "      <td>3</td>\n",
       "    </tr>\n",
       "    <tr>\n",
       "      <th>Zimbabwe</th>\n",
       "      <td>5</td>\n",
       "      <td>5</td>\n",
       "    </tr>\n",
       "  </tbody>\n",
       "</table>\n",
       "<p>128 rows × 2 columns</p>\n",
       "</div>"
      ],
      "text/plain": [
       "obesity_levels            obese   overweight \n",
       "country                                      \n",
       "American Samoa                 6            3\n",
       "Argentina                      2            2\n",
       "Armenia                        3            3\n",
       "Australia                     19           19\n",
       "Austria                       12           12\n",
       "...                          ...          ...\n",
       "United States of America      24           24\n",
       "Uzbekistan                     2            2\n",
       "Viet Nam                       3            6\n",
       "Zambia                         3            3\n",
       "Zimbabwe                       5            5\n",
       "\n",
       "[128 rows x 2 columns]"
      ]
     },
     "execution_count": 26,
     "metadata": {},
     "output_type": "execute_result"
    }
   ],
   "source": [
    "data_crosstab = pd.crosstab(risk_levels['country'], risk_levels['obesity_levels'], margins = False)\n",
    "data_crosstab"
   ]
  },
  {
   "cell_type": "code",
   "execution_count": 28,
   "id": "05317236",
   "metadata": {},
   "outputs": [
    {
     "data": {
      "text/plain": [
       "127"
      ]
     },
     "execution_count": 28,
     "metadata": {},
     "output_type": "execute_result"
    }
   ],
   "source": [
    "risk_levels['country'].nunique()-1"
   ]
  },
  {
   "cell_type": "code",
   "execution_count": 29,
   "id": "c95f4949",
   "metadata": {},
   "outputs": [
    {
     "data": {
      "text/plain": [
       "array(['American Samoa', 'Argentina', 'Armenia', 'Australia', 'Austria',\n",
       "       'Azerbaijan', 'Bahrain', 'Bangladesh', 'Barbados', 'Belgium',\n",
       "       'Benin', 'Bolivia (Plurinational State of)',\n",
       "       'Bosnia and Herzegovina', 'Brazil', 'Bulgaria', 'Burkina Faso',\n",
       "       'Cambodia', 'Cameroon', 'Canada', 'Chad', 'Chile', 'China',\n",
       "       'Colombia', 'Congo', \"Cote d'Ivoire\", 'Croatia', 'Cuba', 'Cyprus',\n",
       "       'Czech Republic', 'Democratic Republic of the Congo', 'Denmark',\n",
       "       'Egypt', 'Eritrea', 'Estonia', 'Ethiopia', 'Fiji', 'Finland',\n",
       "       'France', 'Gabon', 'Germany', 'Ghana', 'Greece', 'Guatemala',\n",
       "       'Guinea', 'Haiti', 'Honduras', 'Hungary', 'Iceland', 'India',\n",
       "       'Indonesia', 'Iran (Islamic Republic of)', 'Iraq', 'Ireland',\n",
       "       'Israel', 'Italy', 'Japan', 'Jordan', 'Kazakhstan', 'Kenya',\n",
       "       'Kiribati', 'Kuwait', \"Lao People's Democratic Republic\", 'Latvia',\n",
       "       'Lebanon', 'Lesotho', 'Liberia', 'Lithuania', 'Madagascar',\n",
       "       'Malawi', 'Malaysia', 'Mali', 'Malta', 'Martinique', 'Mauritania',\n",
       "       'Mauritius', 'Mexico', 'Mongolia', 'Morocco', 'Mozambique',\n",
       "       'Namibia', 'Nepal', 'Netherlands', 'New Zealand', 'Nicaragua',\n",
       "       'Niger', 'Nigeria', 'Norway', 'Oman', 'Panama', 'Peru',\n",
       "       'Philippines', 'Poland', 'Portugal', 'Republic of Korea',\n",
       "       'Romania', 'Russian Federation', 'Rwanda', 'Saudi Arabia',\n",
       "       'Senegal', 'Serbia and Montenegro', 'Seychelles', 'Singapore',\n",
       "       'Slovakia', 'Slovenia', 'South Africa', 'Spain', 'Swaziland',\n",
       "       'Sweden', 'Switzerland', 'Tajikistan', 'Thailand', 'Macedonia',\n",
       "       'Timor-Leste', 'Tokelau', 'Tonga', 'Turkey', 'Turkmenistan',\n",
       "       'Uganda', 'Ukraine', 'United Arab Emirates',\n",
       "       'United Kingdom of Great Britain and Northern Ireland',\n",
       "       'United Republic of Tanzania', 'United States of America',\n",
       "       'Uzbekistan', 'Viet Nam', 'Zambia', 'Zimbabwe', 'Montenegro'],\n",
       "      dtype=object)"
      ]
     },
     "execution_count": 29,
     "metadata": {},
     "output_type": "execute_result"
    }
   ],
   "source": [
    "risk_levels['country'].unique()"
   ]
  },
  {
   "cell_type": "code",
   "execution_count": 32,
   "id": "6a353709",
   "metadata": {},
   "outputs": [
    {
     "data": {
      "text/plain": [
       "(128, 2)"
      ]
     },
     "execution_count": 32,
     "metadata": {},
     "output_type": "execute_result"
    }
   ],
   "source": [
    "data_crosstab.shape"
   ]
  },
  {
   "cell_type": "code",
   "execution_count": 33,
   "id": "c4126796",
   "metadata": {},
   "outputs": [
    {
     "data": {
      "text/plain": [
       "127"
      ]
     },
     "execution_count": 33,
     "metadata": {},
     "output_type": "execute_result"
    }
   ],
   "source": [
    "# Number of degrees of freedom\n",
    "(data_crosstab.shape[0]-1)*(data_crosstab.shape[1]-1)"
   ]
  },
  {
   "cell_type": "code",
   "execution_count": 36,
   "id": "2ed66eb1",
   "metadata": {
    "scrolled": true
   },
   "outputs": [
    {
     "data": {
      "text/plain": [
       "154.30151616535022"
      ]
     },
     "execution_count": 36,
     "metadata": {},
     "output_type": "execute_result"
    }
   ],
   "source": [
    "# this is the critical value\n",
    "st.chi2.ppf(0.95,df=127)"
   ]
  },
  {
   "cell_type": "code",
   "execution_count": 37,
   "id": "ce17ae9d",
   "metadata": {},
   "outputs": [
    {
     "data": {
      "text/plain": [
       "(53.341402180473565,\n",
       " 0.999999999001409,\n",
       " 127,\n",
       " array([[ 4.57534247,  4.42465753],\n",
       "        [ 2.03348554,  1.96651446],\n",
       "        [ 3.05022831,  2.94977169],\n",
       "        [19.31811263, 18.68188737],\n",
       "        [12.20091324, 11.79908676],\n",
       "        [ 3.05022831,  2.94977169],\n",
       "        [ 3.05022831,  2.94977169],\n",
       "        [ 3.5585997 ,  3.4414003 ],\n",
       "        [ 3.05022831,  2.94977169],\n",
       "        [ 4.57534247,  4.42465753],\n",
       "        [ 2.03348554,  1.96651446],\n",
       "        [ 2.03348554,  1.96651446],\n",
       "        [ 3.05022831,  2.94977169],\n",
       "        [ 8.13394216,  7.86605784],\n",
       "        [ 5.08371385,  4.91628615],\n",
       "        [ 2.03348554,  1.96651446],\n",
       "        [ 3.05022831,  2.94977169],\n",
       "        [ 1.01674277,  0.98325723],\n",
       "        [16.26788432, 15.73211568],\n",
       "        [ 1.01674277,  0.98325723],\n",
       "        [ 3.05022831,  2.94977169],\n",
       "        [ 5.59208524,  5.40791476],\n",
       "        [ 9.15068493,  8.84931507],\n",
       "        [ 1.01674277,  0.98325723],\n",
       "        [ 1.01674277,  0.98325723],\n",
       "        [ 4.06697108,  3.93302892],\n",
       "        [ 6.10045662,  5.89954338],\n",
       "        [ 3.05022831,  2.94977169],\n",
       "        [ 8.13394216,  7.86605784],\n",
       "        [ 1.01674277,  0.98325723],\n",
       "        [ 8.13394216,  7.86605784],\n",
       "        [ 9.15068493,  8.84931507],\n",
       "        [ 3.05022831,  2.94977169],\n",
       "        [ 7.62557078,  7.37442922],\n",
       "        [ 4.06697108,  3.93302892],\n",
       "        [ 4.06697108,  3.93302892],\n",
       "        [24.40182648, 23.59817352],\n",
       "        [ 8.13394216,  7.86605784],\n",
       "        [ 1.01674277,  0.98325723],\n",
       "        [15.25114155, 14.74885845],\n",
       "        [ 3.05022831,  2.94977169],\n",
       "        [ 4.06697108,  3.93302892],\n",
       "        [ 1.01674277,  0.98325723],\n",
       "        [ 2.03348554,  1.96651446],\n",
       "        [ 3.05022831,  2.94977169],\n",
       "        [ 2.03348554,  1.96651446],\n",
       "        [ 7.62557078,  7.37442922],\n",
       "        [ 3.05022831,  2.94977169],\n",
       "        [ 5.08371385,  4.91628615],\n",
       "        [ 3.05022831,  2.94977169],\n",
       "        [ 8.13394216,  7.86605784],\n",
       "        [ 2.03348554,  1.96651446],\n",
       "        [ 6.60882801,  6.39117199],\n",
       "        [ 9.15068493,  8.84931507],\n",
       "        [12.20091324, 11.79908676],\n",
       "        [ 7.11719939,  6.88280061],\n",
       "        [ 3.5585997 ,  3.4414003 ],\n",
       "        [ 1.01674277,  0.98325723],\n",
       "        [ 1.01674277,  0.98325723],\n",
       "        [ 9.15068493,  8.84931507],\n",
       "        [ 6.10045662,  5.89954338],\n",
       "        [ 3.05022831,  2.94977169],\n",
       "        [12.20091324, 11.79908676],\n",
       "        [ 1.01674277,  0.98325723],\n",
       "        [ 3.5585997 ,  3.4414003 ],\n",
       "        [ 2.03348554,  1.96651446],\n",
       "        [12.20091324, 11.79908676],\n",
       "        [ 3.05022831,  2.94977169],\n",
       "        [ 2.54185693,  2.45814307],\n",
       "        [ 3.05022831,  2.94977169],\n",
       "        [12.20091324, 11.79908676],\n",
       "        [ 2.03348554,  1.96651446],\n",
       "        [12.20091324, 11.79908676],\n",
       "        [ 2.03348554,  1.96651446],\n",
       "        [ 2.03348554,  1.96651446],\n",
       "        [ 1.52511416,  1.47488584],\n",
       "        [ 4.57534247,  4.42465753],\n",
       "        [ 7.62557078,  7.37442922],\n",
       "        [ 2.54185693,  2.45814307],\n",
       "        [ 6.60882801,  6.39117199],\n",
       "        [ 1.01674277,  0.98325723],\n",
       "        [ 2.03348554,  1.96651446],\n",
       "        [ 2.03348554,  1.96651446],\n",
       "        [ 3.05022831,  2.94977169],\n",
       "        [15.25114155, 14.74885845],\n",
       "        [ 4.06697108,  3.93302892],\n",
       "        [ 1.01674277,  0.98325723],\n",
       "        [ 2.03348554,  1.96651446],\n",
       "        [15.25114155, 14.74885845],\n",
       "        [ 2.03348554,  1.96651446],\n",
       "        [ 3.05022831,  2.94977169],\n",
       "        [ 6.10045662,  5.89954338],\n",
       "        [ 3.05022831,  2.94977169],\n",
       "        [ 6.10045662,  5.89954338],\n",
       "        [12.20091324, 11.79908676],\n",
       "        [ 4.57534247,  4.42465753],\n",
       "        [ 3.05022831,  2.94977169],\n",
       "        [ 2.03348554,  1.96651446],\n",
       "        [ 1.52511416,  1.47488584],\n",
       "        [10.1674277 ,  9.8325723 ],\n",
       "        [ 1.01674277,  0.98325723],\n",
       "        [ 2.54185693,  2.45814307],\n",
       "        [ 3.05022831,  2.94977169],\n",
       "        [ 3.05022831,  2.94977169],\n",
       "        [ 3.05022831,  2.94977169],\n",
       "        [ 1.52511416,  1.47488584],\n",
       "        [ 4.06697108,  3.93302892],\n",
       "        [14.23439878, 13.76560122],\n",
       "        [ 4.06697108,  3.93302892],\n",
       "        [19.31811263, 18.68188737],\n",
       "        [ 9.15068493,  8.84931507],\n",
       "        [ 1.01674277,  0.98325723],\n",
       "        [ 5.08371385,  4.91628615],\n",
       "        [ 1.01674277,  0.98325723],\n",
       "        [ 1.52511416,  1.47488584],\n",
       "        [ 1.01674277,  0.98325723],\n",
       "        [ 6.10045662,  5.89954338],\n",
       "        [ 1.01674277,  0.98325723],\n",
       "        [ 2.03348554,  1.96651446],\n",
       "        [ 1.01674277,  0.98325723],\n",
       "        [ 4.57534247,  4.42465753],\n",
       "        [12.20091324, 11.79908676],\n",
       "        [ 2.03348554,  1.96651446],\n",
       "        [24.40182648, 23.59817352],\n",
       "        [ 2.03348554,  1.96651446],\n",
       "        [ 4.57534247,  4.42465753],\n",
       "        [ 3.05022831,  2.94977169],\n",
       "        [ 5.08371385,  4.91628615]]))"
      ]
     },
     "execution_count": 37,
     "metadata": {},
     "output_type": "execute_result"
    }
   ],
   "source": [
    "st.chi2_contingency(data_crosstab)"
   ]
  },
  {
   "cell_type": "code",
   "execution_count": null,
   "id": "bca5763a",
   "metadata": {},
   "outputs": [],
   "source": [
    "# 3 - Get the chi2 of your crosstable -> st.chi2_contingency() ->(chi2, p_value, degrees_of_freedom, array_of_expected_prequencies)\n",
    "# 4 - Get the critical value of the chi2 distribution with (number of degrees of freedom). st.chi2.ppf(confidence_level,df=degrees_of_freedom)\n",
    "# 5 - Option_1 -> Compare your chi2 against the critical value.\n",
    "#.      if chi2 < critical_value -> Accept H0\n",
    "#       otherwise -> Reject H0\n",
    "#.  - Option_2 > Compare your p_value against the significance level (alpha)\n",
    "#.      if p_value < alpha -> Reject H0\n",
    "#.      otherwise -> Accept H0"
   ]
  },
  {
   "cell_type": "markdown",
   "id": "0f4dc2ef",
   "metadata": {},
   "source": [
    "#### There is a relation between countries and obesity . We can accept the hypothesis"
   ]
  },
  {
   "cell_type": "markdown",
   "id": "e05860d8",
   "metadata": {},
   "source": [
    "#### It seems that inspite of the hypothesis of clear Nominal relationships between countries and obesity levels are true, there is a scattered levels of overall data that are missing on the internet  with regards to such health critical Issue between the years 2009 till present."
   ]
  },
  {
   "cell_type": "markdown",
   "id": "a4f8fd57",
   "metadata": {},
   "source": [
    "#### It is safe to say that we need to create a public database of obesity levels for the the people and from the people, in the market place"
   ]
  },
  {
   "cell_type": "code",
   "execution_count": null,
   "id": "2ffd6434",
   "metadata": {},
   "outputs": [],
   "source": []
  }
 ],
 "metadata": {
  "kernelspec": {
   "display_name": "Python 3 (ipykernel)",
   "language": "python",
   "name": "python3"
  },
  "language_info": {
   "codemirror_mode": {
    "name": "ipython",
    "version": 3
   },
   "file_extension": ".py",
   "mimetype": "text/x-python",
   "name": "python",
   "nbconvert_exporter": "python",
   "pygments_lexer": "ipython3",
   "version": "3.9.12"
  }
 },
 "nbformat": 4,
 "nbformat_minor": 5
}
