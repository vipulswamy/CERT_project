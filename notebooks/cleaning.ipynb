{
 "cells": [
  {
   "cell_type": "code",
   "execution_count": 50,
   "id": "b74e4def",
   "metadata": {},
   "outputs": [],
   "source": [
    "import numpy as np\n",
    "import pandas as pd\n",
    "from bs4 import BeautifulSoup\n",
    "import matplotlib.pyplot as plt\n",
    "import seaborn as sns\n",
    "import pprint\n",
    "import re"
   ]
  },
  {
   "cell_type": "code",
   "execution_count": 51,
   "id": "d249d5b7",
   "metadata": {},
   "outputs": [],
   "source": [
    "#declarations\n",
    "data = pd.DataFrame"
   ]
  },
  {
   "cell_type": "code",
   "execution_count": 52,
   "id": "d2020de0",
   "metadata": {},
   "outputs": [],
   "source": [
    "\n",
    "def read_file(data):\n",
    "    data = pd.read_csv(\"BMI_by_country.csv\")\n",
    "    data.info()\n",
    "    return data"
   ]
  },
  {
   "cell_type": "code",
   "execution_count": 53,
   "id": "d241035c",
   "metadata": {},
   "outputs": [],
   "source": [
    "def coloumn_splitting(data):\n",
    "    data['country'], data['indicator'] = data['country'].str.split(',', 1).str\n",
    "    data['indicator'], data['unit']= data['indicator'].str.split(',', 1).str\n",
    "    data['unit'], data['value']= data['unit'].str.split(',', 1).str\n",
    "    data['value'], data['value1']= data['value'].str.split(',', 1).str\n",
    "    data['value1'], data['value2']= data['value1'].str.split(',', 1).str\n",
    "    data = data.rename({'value': 'date', 'value1': 'value','value2':'country_code'}, axis=1)  # new method\n",
    "    data['indicator'], data['bmi_status']= data['indicator'].str.split('%', 1).str\n",
    "    data['bmi_status'], data['percentage']= data['bmi_status'].str.split(' ', 1).str\n",
    "    data['indicator'], data['people']= data['indicator'].str.split('BMI', 1).str\n",
    "    data['type'], data['range']= data['percentage'].str.split('(', 1).str\n",
    "    data['date'] = data['date'].str.rstrip(' 0:00\"')\n",
    "    data['date'] = data['date'].str[5:]\n",
    "    data['range'], data['junk'] = data['range'].str.split(')', 1).str\n",
    "    \n",
    "    return data\n",
    "    "
   ]
  },
  {
   "cell_type": "code",
   "execution_count": 54,
   "id": "d5bf7f8a",
   "metadata": {},
   "outputs": [],
   "source": [
    "#data cleaning\n",
    "def header_names(data):\n",
    "    numerical = data.select_dtypes(np.number)\n",
    "    categorical = data.select_dtypes(object)\n",
    "    \n",
    "    numerical_df = numerical.rename(columns=str.lower)\n",
    "    numerical_df.columns = numerical_df.columns.str.replace(' ', '_')\n",
    "    numerical_df.drop_duplicates()\n",
    "    numerical_df = numerical_df.round()\n",
    "    numerical_df = numerical_df.astype(int)\n",
    "    categorical_df = categorical.rename(columns=str.lower) \n",
    "    categorical_df.columns = categorical_df.columns.str.replace(' ', '_')\n",
    "    categorical_df.drop_duplicates() \n",
    "       \n",
    "    return numerical_df,categorical_df"
   ]
  },
  {
   "cell_type": "code",
   "execution_count": 55,
   "id": "da4df733",
   "metadata": {
    "scrolled": true
   },
   "outputs": [],
   "source": [
    "#data['range'], data['junk']= data['range'].str.split(')', 1).str"
   ]
  },
  {
   "cell_type": "code",
   "execution_count": 56,
   "id": "b0b8ab78",
   "metadata": {},
   "outputs": [
    {
     "name": "stdout",
     "output_type": "stream",
     "text": [
      "<class 'pandas.core.frame.DataFrame'>\n",
      "RangeIndex: 2772 entries, 0 to 2771\n",
      "Data columns (total 1 columns):\n",
      " #   Column   Non-Null Count  Dtype \n",
      "---  ------   --------------  ----- \n",
      " 0   country  2772 non-null   object\n",
      "dtypes: object(1)\n",
      "memory usage: 21.8+ KB\n"
     ]
    }
   ],
   "source": [
    "data = read_file(data).copy()"
   ]
  },
  {
   "cell_type": "code",
   "execution_count": 57,
   "id": "46eeadaa",
   "metadata": {},
   "outputs": [
    {
     "name": "stderr",
     "output_type": "stream",
     "text": [
      "C:\\Users\\Admin\\AppData\\Local\\Temp\\ipykernel_17228\\604746784.py:2: FutureWarning: Columnar iteration over characters will be deprecated in future releases.\n",
      "  data['country'], data['indicator'] = data['country'].str.split(',', 1).str\n",
      "C:\\Users\\Admin\\AppData\\Local\\Temp\\ipykernel_17228\\604746784.py:3: FutureWarning: Columnar iteration over characters will be deprecated in future releases.\n",
      "  data['indicator'], data['unit']= data['indicator'].str.split(',', 1).str\n",
      "C:\\Users\\Admin\\AppData\\Local\\Temp\\ipykernel_17228\\604746784.py:4: FutureWarning: Columnar iteration over characters will be deprecated in future releases.\n",
      "  data['unit'], data['value']= data['unit'].str.split(',', 1).str\n",
      "C:\\Users\\Admin\\AppData\\Local\\Temp\\ipykernel_17228\\604746784.py:5: FutureWarning: Columnar iteration over characters will be deprecated in future releases.\n",
      "  data['value'], data['value1']= data['value'].str.split(',', 1).str\n",
      "C:\\Users\\Admin\\AppData\\Local\\Temp\\ipykernel_17228\\604746784.py:6: FutureWarning: Columnar iteration over characters will be deprecated in future releases.\n",
      "  data['value1'], data['value2']= data['value1'].str.split(',', 1).str\n",
      "C:\\Users\\Admin\\AppData\\Local\\Temp\\ipykernel_17228\\604746784.py:8: FutureWarning: Columnar iteration over characters will be deprecated in future releases.\n",
      "  data['indicator'], data['bmi_status']= data['indicator'].str.split('%', 1).str\n",
      "C:\\Users\\Admin\\AppData\\Local\\Temp\\ipykernel_17228\\604746784.py:9: FutureWarning: Columnar iteration over characters will be deprecated in future releases.\n",
      "  data['bmi_status'], data['percentage']= data['bmi_status'].str.split(' ', 1).str\n",
      "C:\\Users\\Admin\\AppData\\Local\\Temp\\ipykernel_17228\\604746784.py:10: FutureWarning: Columnar iteration over characters will be deprecated in future releases.\n",
      "  data['indicator'], data['people']= data['indicator'].str.split('BMI', 1).str\n",
      "C:\\Users\\Admin\\AppData\\Local\\Temp\\ipykernel_17228\\604746784.py:11: FutureWarning: Columnar iteration over characters will be deprecated in future releases.\n",
      "  data['type'], data['range']= data['percentage'].str.split('(', 1).str\n",
      "C:\\Users\\Admin\\AppData\\Local\\Temp\\ipykernel_17228\\604746784.py:14: FutureWarning: Columnar iteration over characters will be deprecated in future releases.\n",
      "  data['range'], data['junk'] = data['range'].str.split(')', 1).str\n"
     ]
    }
   ],
   "source": [
    "data = coloumn_splitting(data)"
   ]
  },
  {
   "cell_type": "code",
   "execution_count": 58,
   "id": "487937a4",
   "metadata": {},
   "outputs": [],
   "source": [
    "num_df,cat_df = header_names(data)"
   ]
  },
  {
   "cell_type": "code",
   "execution_count": 59,
   "id": "1bd95ad8",
   "metadata": {},
   "outputs": [],
   "source": [
    "data = cat_df"
   ]
  },
  {
   "cell_type": "code",
   "execution_count": 60,
   "id": "933a0fcc",
   "metadata": {},
   "outputs": [],
   "source": [
    "data = data[[\"country\",\"people\",\"type\",\"range\",\"date\"]]"
   ]
  },
  {
   "cell_type": "code",
   "execution_count": 61,
   "id": "b2ccf7f5",
   "metadata": {},
   "outputs": [],
   "source": [
    "data.to_csv(\"clean_data.csv\")"
   ]
  }
 ],
 "metadata": {
  "kernelspec": {
   "display_name": "Python 3 (ipykernel)",
   "language": "python",
   "name": "python3"
  },
  "language_info": {
   "codemirror_mode": {
    "name": "ipython",
    "version": 3
   },
   "file_extension": ".py",
   "mimetype": "text/x-python",
   "name": "python",
   "nbconvert_exporter": "python",
   "pygments_lexer": "ipython3",
   "version": "3.9.12"
  }
 },
 "nbformat": 4,
 "nbformat_minor": 5
}
